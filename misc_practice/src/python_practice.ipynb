{
 "cells": [
  {
   "cell_type": "markdown",
   "id": "9232958a-ad49-4cdf-a01e-c6db52a0005c",
   "metadata": {},
   "source": [
    "Notebook for practice and testing code."
   ]
  },
  {
   "cell_type": "code",
   "execution_count": null,
   "id": "6dfc1d48-e8d6-46c3-b5f2-c811ce69a5e5",
   "metadata": {},
   "outputs": [],
   "source": []
  },
  {
   "cell_type": "code",
   "execution_count": null,
   "id": "74af2f45-1b81-4ea4-8a65-9f49b7c77c3c",
   "metadata": {},
   "outputs": [],
   "source": []
  },
  {
   "cell_type": "code",
   "execution_count": null,
   "id": "4ad96ce7-b1f0-476d-9c39-f0ac7091414c",
   "metadata": {},
   "outputs": [],
   "source": []
  },
  {
   "cell_type": "code",
   "execution_count": null,
   "id": "0d69b368-fbbf-4b94-abae-66e59bb0f8b7",
   "metadata": {},
   "outputs": [],
   "source": []
  },
  {
   "cell_type": "code",
   "execution_count": null,
   "id": "fbffbb8a-4783-4470-bb3a-a813f6b7eeee",
   "metadata": {},
   "outputs": [],
   "source": []
  },
  {
   "cell_type": "code",
   "execution_count": null,
   "id": "6256c911-43ca-45d3-b7fc-8eeff021501d",
   "metadata": {},
   "outputs": [],
   "source": []
  },
  {
   "cell_type": "markdown",
   "id": "721dc190-861f-44bf-bd9d-8b5bc01afe8e",
   "metadata": {},
   "source": [
    "# Function to get number of all palindromic substrings from a string"
   ]
  },
  {
   "cell_type": "code",
   "execution_count": 8,
   "id": "d1a9d756-080a-4cec-add5-17f96207f936",
   "metadata": {},
   "outputs": [],
   "source": [
    "def is_palindrome(string: str) -> bool:\n",
    "    return string[::-1] == string\n",
    "\n",
    "\n",
    "def palidrome_substrings(string: str) -> int:\n",
    "    \"\"\"Returns the number of palindrome substrings\"\"\"\n",
    "    substrings = set()\n",
    "    for start_index in range(len(string)):\n",
    "        for end_index in range(start_index + 1, len(string) + 1, 1):\n",
    "            sliced = string[start_index:end_index]\n",
    "            if is_palindrome(sliced):\n",
    "                substrings.add(sliced)\n",
    "    return len(substrings)\n",
    "            \n",
    "        "
   ]
  },
  {
   "cell_type": "code",
   "execution_count": null,
   "id": "1c553260-0c7a-4a7e-831d-19cad979ae00",
   "metadata": {},
   "outputs": [],
   "source": [
    "'abcd'\n",
    "\n",
    "'a', 'ab', 'abc', 'abcd',\n",
    "'b', 'bc', 'bcd',\n",
    "'c', 'cd',\n",
    "'d'\n",
    "\n",
    "\n",
    "'a', 'b', 'c', 'd', 'ab', 'bc', 'cd', 'abc', 'bcd', 'abcd'\n",
    "\n"
   ]
  },
  {
   "cell_type": "code",
   "execution_count": 9,
   "id": "0fe8e965-e806-4b9a-acae-07660aa762af",
   "metadata": {},
   "outputs": [],
   "source": [
    "a = 'aba'"
   ]
  },
  {
   "cell_type": "code",
   "execution_count": 10,
   "id": "f1e69d3a-eeab-4401-a82c-d4dba9981761",
   "metadata": {},
   "outputs": [
    {
     "data": {
      "text/plain": [
       "3"
      ]
     },
     "execution_count": 10,
     "metadata": {},
     "output_type": "execute_result"
    }
   ],
   "source": [
    "palidrome_substrings(a)"
   ]
  },
  {
   "cell_type": "markdown",
   "id": "457afb63-92a4-46fa-90dc-163ba400281d",
   "metadata": {},
   "source": [
    "# Write a class to support a Stack and it's operations: Push, Pop, and Peek"
   ]
  },
  {
   "cell_type": "code",
   "execution_count": 58,
   "id": "b6128ab4-5d15-49bf-97e0-ab0620aca2fb",
   "metadata": {},
   "outputs": [],
   "source": [
    "class Stack:\n",
    "    '''Implement a stack, supporting push, pop, and peek operations.'''\n",
    "    # what should be the stack properties?\n",
    "    \n",
    "    def __init__(self):\n",
    "        # initialize an empty list here\n",
    "        self.lst = []\n",
    "\n",
    "    # write a method that adds an element to the end of the list --> Push method\n",
    "    def push_item(self, item):\n",
    "        return self.lst.append(item)\n",
    "\n",
    "    # write a method that pops an element, so removes it from the end of the list --> Pop\n",
    "    def pop_item(self):\n",
    "        if len(self.lst) == 0:\n",
    "            raise ValueError('Stack is empty!')\n",
    "            # this will pop the last element\n",
    "        return self.lst.pop()\n",
    "\n",
    "    # write a peek operation --> what's the last element in the list?\n",
    "    def peek_item(self):\n",
    "        if len(self.lst) == 0:\n",
    "            raise ValueError('Stack is empty!')\n",
    "        return self.lst[-1]\n",
    "        "
   ]
  },
  {
   "cell_type": "markdown",
   "id": "810ba616-3b28-4e1b-856a-37df30216bde",
   "metadata": {},
   "source": [
    "Try the Stack class"
   ]
  },
  {
   "cell_type": "code",
   "execution_count": 59,
   "id": "8f5ee33b-f3e2-4f6d-98ef-4d193a668ffb",
   "metadata": {},
   "outputs": [],
   "source": [
    "# Build a stack\n",
    "stack = Stack()\n",
    "for char in ['a','b','c','d']:\n",
    "    stack.push_item(char)\n",
    "    "
   ]
  },
  {
   "cell_type": "code",
   "execution_count": 60,
   "id": "242ec41c-7190-4270-b203-6d31bcd82901",
   "metadata": {},
   "outputs": [
    {
     "data": {
      "text/plain": [
       "['a', 'b', 'c', 'd']"
      ]
     },
     "execution_count": 60,
     "metadata": {},
     "output_type": "execute_result"
    }
   ],
   "source": [
    "stack.lst"
   ]
  },
  {
   "cell_type": "code",
   "execution_count": 61,
   "id": "cc5eb3fa-5b8a-4a94-ab78-86ebc6fc3a85",
   "metadata": {},
   "outputs": [],
   "source": [
    "# Peek at the stack"
   ]
  },
  {
   "cell_type": "code",
   "execution_count": 62,
   "id": "d910f41b-4ab0-40a8-b3cb-e02ffe2c96ab",
   "metadata": {},
   "outputs": [
    {
     "data": {
      "text/plain": [
       "'d'"
      ]
     },
     "execution_count": 62,
     "metadata": {},
     "output_type": "execute_result"
    }
   ],
   "source": [
    "stack.peek_item()"
   ]
  },
  {
   "cell_type": "code",
   "execution_count": 63,
   "id": "a8c941ed-e8d7-475e-81df-92c9fb9fdaf4",
   "metadata": {},
   "outputs": [],
   "source": [
    "# Now remove everything in the stack\n",
    "for i in range(len(stack.lst)):\n",
    "    stack.pop_item()"
   ]
  },
  {
   "cell_type": "code",
   "execution_count": 64,
   "id": "387cc87d-be97-4b7c-a0bc-66157c539064",
   "metadata": {},
   "outputs": [
    {
     "data": {
      "text/plain": [
       "[]"
      ]
     },
     "execution_count": 64,
     "metadata": {},
     "output_type": "execute_result"
    }
   ],
   "source": [
    "stack.lst"
   ]
  },
  {
   "cell_type": "code",
   "execution_count": 65,
   "id": "5efeb3b4-69da-4091-b23c-5eb15f6eea96",
   "metadata": {},
   "outputs": [
    {
     "data": {
      "text/plain": [
       "[1, 2]"
      ]
     },
     "execution_count": 65,
     "metadata": {},
     "output_type": "execute_result"
    }
   ],
   "source": [
    "a"
   ]
  },
  {
   "cell_type": "code",
   "execution_count": 66,
   "id": "944fb8fe-e6e2-4d9d-8820-b747038d9243",
   "metadata": {},
   "outputs": [
    {
     "data": {
      "text/plain": [
       "2"
      ]
     },
     "execution_count": 66,
     "metadata": {},
     "output_type": "execute_result"
    }
   ],
   "source": [
    "a.pop()"
   ]
  },
  {
   "cell_type": "code",
   "execution_count": 67,
   "id": "72c181e6-e46f-49e7-a1e9-1d98ac1475b3",
   "metadata": {},
   "outputs": [
    {
     "data": {
      "text/plain": [
       "[1]"
      ]
     },
     "execution_count": 67,
     "metadata": {},
     "output_type": "execute_result"
    }
   ],
   "source": [
    "a"
   ]
  },
  {
   "cell_type": "code",
   "execution_count": 68,
   "id": "8b62c209-30d4-40e5-aed5-30d6a27976b9",
   "metadata": {},
   "outputs": [
    {
     "data": {
      "text/plain": [
       "[1]"
      ]
     },
     "execution_count": 68,
     "metadata": {},
     "output_type": "execute_result"
    }
   ],
   "source": [
    "a "
   ]
  },
  {
   "cell_type": "code",
   "execution_count": 69,
   "id": "c3a6a245-6b0e-4dd2-af60-d130fe0d2672",
   "metadata": {},
   "outputs": [
    {
     "data": {
      "text/plain": [
       "[]"
      ]
     },
     "execution_count": 69,
     "metadata": {},
     "output_type": "execute_result"
    }
   ],
   "source": [
    "b"
   ]
  },
  {
   "cell_type": "code",
   "execution_count": 90,
   "id": "d70df9f0-990f-4565-9055-bf140c8d5bac",
   "metadata": {},
   "outputs": [],
   "source": [
    "c = [1,2,3,2,3,4,5,4,5]"
   ]
  },
  {
   "cell_type": "code",
   "execution_count": 91,
   "id": "f169bde7-9398-41f7-8700-129dd70e18cf",
   "metadata": {},
   "outputs": [
    {
     "data": {
      "text/plain": [
       "1"
      ]
     },
     "execution_count": 91,
     "metadata": {},
     "output_type": "execute_result"
    }
   ],
   "source": [
    "c.count(1)"
   ]
  },
  {
   "cell_type": "code",
   "execution_count": 92,
   "id": "3aafd1a8-e82e-4910-8ffc-60c63f1dbea5",
   "metadata": {},
   "outputs": [],
   "source": [
    "def get_unique(a):\n",
    "    x = []\n",
    "    for i in a:\n",
    "        if a.count(i) == 1:\n",
    "            x.append(i)\n",
    "            a.remove(i)\n",
    "    return x"
   ]
  },
  {
   "cell_type": "code",
   "execution_count": 105,
   "id": "a0de2909-bd99-4360-9a51-ee09cba5f30a",
   "metadata": {},
   "outputs": [],
   "source": [
    "def add_cat(s):\n",
    "    s = s + ['cat']\n",
    "    return s"
   ]
  },
  {
   "cell_type": "code",
   "execution_count": 108,
   "id": "5c36197e-4656-4b22-9372-9af6192bab98",
   "metadata": {},
   "outputs": [],
   "source": [
    "y = ['bird']"
   ]
  },
  {
   "cell_type": "code",
   "execution_count": 109,
   "id": "fa759b88-4521-4f2f-9242-7fbb1b6948f8",
   "metadata": {},
   "outputs": [
    {
     "data": {
      "text/plain": [
       "['bird', 'cat']"
      ]
     },
     "execution_count": 109,
     "metadata": {},
     "output_type": "execute_result"
    }
   ],
   "source": [
    "add_cat(y)"
   ]
  },
  {
   "cell_type": "code",
   "execution_count": 110,
   "id": "98907e27-ce46-4573-821e-a7cce4156c75",
   "metadata": {},
   "outputs": [
    {
     "data": {
      "text/plain": [
       "['bird']"
      ]
     },
     "execution_count": 110,
     "metadata": {},
     "output_type": "execute_result"
    }
   ],
   "source": [
    "y"
   ]
  },
  {
   "cell_type": "code",
   "execution_count": 111,
   "id": "e24c4232-17c4-403f-b61b-62b1564d3148",
   "metadata": {},
   "outputs": [],
   "source": [
    "def add_cat2(s):\n",
    "    s.append('cat')\n",
    "    return s"
   ]
  },
  {
   "cell_type": "code",
   "execution_count": 112,
   "id": "01ec2df6-c1e7-4b8f-8456-4f81a3d2ee53",
   "metadata": {},
   "outputs": [],
   "source": [
    "y = ['bird']"
   ]
  },
  {
   "cell_type": "code",
   "execution_count": 113,
   "id": "6f061433-1abe-4bd8-bef5-ef675a76395c",
   "metadata": {},
   "outputs": [
    {
     "data": {
      "text/plain": [
       "['bird', 'cat']"
      ]
     },
     "execution_count": 113,
     "metadata": {},
     "output_type": "execute_result"
    }
   ],
   "source": [
    "add_cat2(y)"
   ]
  },
  {
   "cell_type": "code",
   "execution_count": 114,
   "id": "a674b08c-c3db-4217-b3f1-d6bf2bc6168d",
   "metadata": {},
   "outputs": [
    {
     "data": {
      "text/plain": [
       "['bird', 'cat']"
      ]
     },
     "execution_count": 114,
     "metadata": {},
     "output_type": "execute_result"
    }
   ],
   "source": [
    "y"
   ]
  },
  {
   "cell_type": "code",
   "execution_count": null,
   "id": "433d3e47-f44e-4ab0-bffe-6ca6d20b37c5",
   "metadata": {},
   "outputs": [],
   "source": []
  }
 ],
 "metadata": {
  "kernelspec": {
   "display_name": "Python 3 (ipykernel)",
   "language": "python",
   "name": "python3"
  },
  "language_info": {
   "codemirror_mode": {
    "name": "ipython",
    "version": 3
   },
   "file_extension": ".py",
   "mimetype": "text/x-python",
   "name": "python",
   "nbconvert_exporter": "python",
   "pygments_lexer": "ipython3",
   "version": "3.12.4"
  }
 },
 "nbformat": 4,
 "nbformat_minor": 5
}
